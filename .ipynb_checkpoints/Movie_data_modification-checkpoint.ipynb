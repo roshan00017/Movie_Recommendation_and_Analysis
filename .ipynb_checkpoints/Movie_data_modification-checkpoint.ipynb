{
 "cells": [
  {
   "cell_type": "code",
   "execution_count": 54,
   "id": "18e07b75",
   "metadata": {},
   "outputs": [],
   "source": [
    "# importing basic libraries\n",
    "import numpy as np \n",
    "import pandas as pd\n",
    "\n"
   ]
  },
  {
   "cell_type": "code",
   "execution_count": 55,
   "id": "bdb261a4",
   "metadata": {},
   "outputs": [],
   "source": [
    "# read data\n",
    "data = pd.read_csv('movie_metadata.csv')"
   ]
  },
  {
   "cell_type": "code",
   "execution_count": 56,
   "id": "e1bfd550",
   "metadata": {},
   "outputs": [
    {
     "name": "stdout",
     "output_type": "stream",
     "text": [
      "(5043, 28)\n"
     ]
    }
   ],
   "source": [
    "print(data.shape)"
   ]
  },
  {
   "cell_type": "code",
   "execution_count": 57,
   "id": "d8e0fad3",
   "metadata": {},
   "outputs": [
    {
     "name": "stdout",
     "output_type": "stream",
     "text": [
      "<class 'pandas.core.frame.DataFrame'>\n",
      "RangeIndex: 5043 entries, 0 to 5042\n",
      "Data columns (total 28 columns):\n",
      " #   Column                     Non-Null Count  Dtype  \n",
      "---  ------                     --------------  -----  \n",
      " 0   color                      5024 non-null   object \n",
      " 1   director_name              4939 non-null   object \n",
      " 2   num_critic_for_reviews     4993 non-null   float64\n",
      " 3   duration                   5028 non-null   float64\n",
      " 4   director_facebook_likes    4939 non-null   float64\n",
      " 5   actor_3_facebook_likes     5020 non-null   float64\n",
      " 6   actor_2_name               5030 non-null   object \n",
      " 7   actor_1_facebook_likes     5036 non-null   float64\n",
      " 8   gross                      4159 non-null   float64\n",
      " 9   genres                     5043 non-null   object \n",
      " 10  actor_1_name               5036 non-null   object \n",
      " 11  movie_title                5043 non-null   object \n",
      " 12  num_voted_users            5043 non-null   int64  \n",
      " 13  cast_total_facebook_likes  5043 non-null   int64  \n",
      " 14  actor_3_name               5020 non-null   object \n",
      " 15  facenumber_in_poster       5030 non-null   float64\n",
      " 16  plot_keywords              4890 non-null   object \n",
      " 17  movie_imdb_link            5043 non-null   object \n",
      " 18  num_user_for_reviews       5022 non-null   float64\n",
      " 19  language                   5031 non-null   object \n",
      " 20  country                    5038 non-null   object \n",
      " 21  content_rating             4740 non-null   object \n",
      " 22  budget                     4551 non-null   float64\n",
      " 23  title_year                 4935 non-null   float64\n",
      " 24  actor_2_facebook_likes     5030 non-null   float64\n",
      " 25  imdb_score                 5043 non-null   float64\n",
      " 26  aspect_ratio               4714 non-null   float64\n",
      " 27  movie_facebook_likes       5043 non-null   int64  \n",
      "dtypes: float64(13), int64(3), object(12)\n",
      "memory usage: 1.1+ MB\n"
     ]
    }
   ],
   "source": [
    "# checking column wise\n",
    "data.info()\n"
   ]
  },
  {
   "cell_type": "code",
   "execution_count": 58,
   "id": "96c98108",
   "metadata": {},
   "outputs": [
    {
     "data": {
      "text/plain": [
       "Index(['director_name', 'num_critic_for_reviews', 'duration', 'actor_2_name',\n",
       "       'gross', 'genres', 'actor_1_name', 'movie_title', 'num_voted_users',\n",
       "       'actor_3_name', 'num_user_for_reviews', 'language', 'budget',\n",
       "       'title_year', 'imdb_score', 'movie_facebook_likes'],\n",
       "      dtype='object')"
      ]
     },
     "execution_count": 58,
     "metadata": {},
     "output_type": "execute_result"
    }
   ],
   "source": [
    "# removing unwanted columns for project\n",
    "data = data.drop(['color',\n",
    "          'director_facebook_likes',\n",
    "          'actor_3_facebook_likes',\n",
    "          'actor_1_facebook_likes',\n",
    "          'cast_total_facebook_likes',\n",
    "          'actor_2_facebook_likes',\n",
    "          'facenumber_in_poster',\n",
    "          'content_rating',\n",
    "          'country',\n",
    "          'movie_imdb_link',\n",
    "          'aspect_ratio',\n",
    "          'plot_keywords'],\n",
    "         axis=1)\n",
    "data.columns"
   ]
  },
  {
   "cell_type": "markdown",
   "id": "c02e8f3e",
   "metadata": {},
   "source": [
    "## Missing values solutions"
   ]
  },
  {
   "cell_type": "code",
   "execution_count": 59,
   "id": "80448a7b",
   "metadata": {},
   "outputs": [
    {
     "data": {
      "text/plain": [
       "director_name             104\n",
       "num_critic_for_reviews     50\n",
       "duration                   15\n",
       "actor_2_name               13\n",
       "gross                     884\n",
       "genres                      0\n",
       "actor_1_name                7\n",
       "movie_title                 0\n",
       "num_voted_users             0\n",
       "actor_3_name               23\n",
       "num_user_for_reviews       21\n",
       "language                   12\n",
       "budget                    492\n",
       "title_year                108\n",
       "imdb_score                  0\n",
       "movie_facebook_likes        0\n",
       "dtype: int64"
      ]
     },
     "execution_count": 59,
     "metadata": {},
     "output_type": "execute_result"
    }
   ],
   "source": [
    "# no of null values\n",
    "data.isnull().sum()"
   ]
  },
  {
   "cell_type": "code",
   "execution_count": 60,
   "id": "0ffaa745",
   "metadata": {},
   "outputs": [
    {
     "data": {
      "text/plain": [
       "director_name              2.06\n",
       "num_critic_for_reviews     0.99\n",
       "duration                   0.30\n",
       "actor_2_name               0.26\n",
       "gross                     17.53\n",
       "genres                     0.00\n",
       "actor_1_name               0.14\n",
       "movie_title                0.00\n",
       "num_voted_users            0.00\n",
       "actor_3_name               0.46\n",
       "num_user_for_reviews       0.42\n",
       "language                   0.24\n",
       "budget                     9.76\n",
       "title_year                 2.14\n",
       "imdb_score                 0.00\n",
       "movie_facebook_likes       0.00\n",
       "dtype: float64"
      ]
     },
     "execution_count": 60,
     "metadata": {},
     "output_type": "execute_result"
    }
   ],
   "source": [
    "# lets check the rows having high percentage of missing values in thedata sets\n",
    "round(100*(data.isnull().sum()/len(data.index)),2)"
   ]
  },
  {
   "cell_type": "code",
   "execution_count": 61,
   "id": "2692ee56",
   "metadata": {},
   "outputs": [],
   "source": [
    "# drop the all the rows with nans valuses in gross and budget as they have high numbe of missing values\n",
    "\n",
    "data= data[~np.isnan(data['gross'])]\n",
    "data = data[~np.isnan(data['budget'])]"
   ]
  },
  {
   "cell_type": "code",
   "execution_count": 62,
   "id": "6c0b0841",
   "metadata": {},
   "outputs": [
    {
     "data": {
      "text/plain": [
       "director_name              0\n",
       "num_critic_for_reviews     1\n",
       "duration                   1\n",
       "actor_2_name               5\n",
       "gross                      0\n",
       "genres                     0\n",
       "actor_1_name               3\n",
       "movie_title                0\n",
       "num_voted_users            0\n",
       "actor_3_name              10\n",
       "num_user_for_reviews       0\n",
       "language                   3\n",
       "budget                     0\n",
       "title_year                 0\n",
       "imdb_score                 0\n",
       "movie_facebook_likes       0\n",
       "dtype: int64"
      ]
     },
     "execution_count": 62,
     "metadata": {},
     "output_type": "execute_result"
    }
   ],
   "source": [
    "# no of null values\n",
    "data.isnull().sum()\n"
   ]
  },
  {
   "cell_type": "code",
   "execution_count": 63,
   "id": "1747908e",
   "metadata": {},
   "outputs": [
    {
     "data": {
      "text/plain": [
       "director_name             0\n",
       "num_critic_for_reviews    1\n",
       "duration                  1\n",
       "actor_2_name              2\n",
       "gross                     0\n",
       "genres                    0\n",
       "actor_1_name              0\n",
       "movie_title               0\n",
       "num_voted_users           0\n",
       "actor_3_name              7\n",
       "num_user_for_reviews      0\n",
       "language                  3\n",
       "budget                    0\n",
       "title_year                0\n",
       "imdb_score                0\n",
       "movie_facebook_likes      0\n",
       "dtype: int64"
      ]
     },
     "execution_count": 63,
     "metadata": {},
     "output_type": "execute_result"
    }
   ],
   "source": [
    "# only having rows where null values sum is less than 2 in row\n",
    "data = data[data.isnull().sum(axis=1) <= 2]\n",
    "data.isnull().sum()"
   ]
  },
  {
   "cell_type": "code",
   "execution_count": 64,
   "id": "4efa1d77",
   "metadata": {},
   "outputs": [],
   "source": [
    "# calculating missing values and filling them\n",
    "\n",
    "#using mean for numerical columns\n",
    "data['num_critic_for_reviews'].fillna(data['num_critic_for_reviews'].mean(),inplace= True)\n",
    "data['duration'].fillna(data['duration'].mean(),inplace = True)\n",
    "\n",
    "# using mode for categorical column\n",
    "data['language'].fillna(data['language'].mode()[0],inplace=True)\n",
    "\n",
    "# we will replace actor names NULL  with \"Unknown actor\"\n",
    "data['actor_2_name'].fillna('Unknown Actor',inplace=True)\n",
    "data['actor_3_name'].fillna('Unknown Actor',inplace =True)\n"
   ]
  },
  {
   "cell_type": "code",
   "execution_count": 65,
   "id": "557c3518",
   "metadata": {},
   "outputs": [
    {
     "data": {
      "text/plain": [
       "0"
      ]
     },
     "execution_count": 65,
     "metadata": {},
     "output_type": "execute_result"
    }
   ],
   "source": [
    "#total null values\n",
    "data.isnull().sum().sum()"
   ]
  },
  {
   "cell_type": "code",
   "execution_count": 66,
   "id": "99018567",
   "metadata": {},
   "outputs": [
    {
     "name": "stdout",
     "output_type": "stream",
     "text": [
      "No. of Rows Before Removing Duplicates:  3888\n",
      "No. of Rows After Removing Duplicates:  3853\n"
     ]
    }
   ],
   "source": [
    "# removing duplications\n",
    "\n",
    "# lets print the no. of rows before removing Duplicates\n",
    "print(\"No. of Rows Before Removing Duplicates: \",data.shape[0])\n",
    "\n",
    "# so lets remove all the duplicates from the data\n",
    "data.drop_duplicates(subset = None ,keep = 'first', inplace = True)\n",
    "\n",
    "# lets print the no. of rows after removing Duplicates\n",
    "print(\"No. of Rows After Removing Duplicates: \",data.shape[0])"
   ]
  },
  {
   "cell_type": "code",
   "execution_count": 67,
   "id": "a29e5a93",
   "metadata": {},
   "outputs": [],
   "source": [
    "data.to_csv('Modified_movie_metadata.csv')"
   ]
  },
  {
   "cell_type": "code",
   "execution_count": null,
   "id": "21de4027",
   "metadata": {},
   "outputs": [],
   "source": []
  },
  {
   "cell_type": "code",
   "execution_count": null,
   "id": "8969b017",
   "metadata": {},
   "outputs": [],
   "source": []
  }
 ],
 "metadata": {
  "kernelspec": {
   "display_name": "Python 3 (ipykernel)",
   "language": "python",
   "name": "python3"
  },
  "language_info": {
   "codemirror_mode": {
    "name": "ipython",
    "version": 3
   },
   "file_extension": ".py",
   "mimetype": "text/x-python",
   "name": "python",
   "nbconvert_exporter": "python",
   "pygments_lexer": "ipython3",
   "version": "3.9.7"
  }
 },
 "nbformat": 4,
 "nbformat_minor": 5
}
